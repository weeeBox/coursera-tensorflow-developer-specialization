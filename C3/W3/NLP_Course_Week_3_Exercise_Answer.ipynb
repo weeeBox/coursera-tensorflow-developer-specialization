{
  "nbformat": 4,
  "nbformat_minor": 0,
  "metadata": {
    "accelerator": "GPU",
    "colab": {
      "name": "NLP Course - Week 3 Exercise Answer.ipynb",
      "provenance": [],
      "toc_visible": true
    },
    "kernelspec": {
      "display_name": "Python 3",
      "language": "python",
      "name": "python3"
    },
    "language_info": {
      "codemirror_mode": {
        "name": "ipython",
        "version": 3
      },
      "file_extension": ".py",
      "mimetype": "text/x-python",
      "name": "python",
      "nbconvert_exporter": "python",
      "pygments_lexer": "ipython3",
      "version": "3.7.6"
    }
  },
  "cells": [
    {
      "cell_type": "code",
      "metadata": {
        "id": "zX4Kg8DUTKWO"
      },
      "source": [
        "#@title Licensed under the Apache License, Version 2.0 (the \"License\");\n",
        "# you may not use this file except in compliance with the License.\n",
        "# You may obtain a copy of the License at\n",
        "#\n",
        "# https://www.apache.org/licenses/LICENSE-2.0\n",
        "#\n",
        "# Unless required by applicable law or agreed to in writing, software\n",
        "# distributed under the License is distributed on an \"AS IS\" BASIS,\n",
        "# WITHOUT WARRANTIES OR CONDITIONS OF ANY KIND, either express or implied.\n",
        "# See the License for the specific language governing permissions and\n",
        "# limitations under the License."
      ],
      "execution_count": 1,
      "outputs": []
    },
    {
      "cell_type": "markdown",
      "metadata": {
        "id": "bjJCZLzupNfa"
      },
      "source": [
        "<a href=\"https://colab.research.google.com/github/lmoroney/dlaicourse/blob/master/TensorFlow%20In%20Practice/Course%203%20-%20NLP/NLP%20Course%20-%20Week%203%20Exercise%20Answer.ipynb\" target=\"_parent\"><img src=\"https://colab.research.google.com/assets/colab-badge.svg\" alt=\"Open In Colab\"/></a>"
      ]
    },
    {
      "cell_type": "code",
      "metadata": {
        "id": "hmA6EzkQJ5jt"
      },
      "source": [
        "import json\n",
        "import tensorflow as tf\n",
        "import csv\n",
        "import random\n",
        "import numpy as np\n",
        "\n",
        "from tensorflow.keras.preprocessing.text import Tokenizer\n",
        "from tensorflow.keras.preprocessing.sequence import pad_sequences\n",
        "from tensorflow.keras.utils import to_categorical\n",
        "from tensorflow.keras import regularizers\n",
        "\n",
        "\n",
        "embedding_dim = 100\n",
        "max_length = 16\n",
        "trunc_type='post'\n",
        "padding_type='post'\n",
        "oov_tok = \"<OOV>\"\n",
        "training_size=160000\n",
        "test_portion=.1\n",
        "\n",
        "corpus = []\n"
      ],
      "execution_count": 2,
      "outputs": []
    },
    {
      "cell_type": "code",
      "metadata": {
        "colab": {
          "base_uri": "https://localhost:8080/"
        },
        "id": "bM0l_dORKqE0",
        "outputId": "26e6d4c3-21fc-4d12-d298-19875370c832"
      },
      "source": [
        "# Note that I cleaned the Stanford dataset to remove LATIN1 encoding to make it easier for Python CSV reader\n",
        "# You can do that yourself with:\n",
        "# iconv -f LATIN1 -t UTF8 training.1600000.processed.noemoticon.csv -o training_cleaned.csv\n",
        "# I then hosted it on my site to make it easier to use in this notebook\n",
        "\n",
        "!wget --no-check-certificate \\\n",
        "    https://storage.googleapis.com/laurencemoroney-blog.appspot.com/training_cleaned.csv \\\n",
        "    -O /tmp/training_cleaned.csv\n",
        "\n",
        "num_sentences = 0\n",
        "\n",
        "with open(\"/tmp/training_cleaned.csv\") as csvfile:\n",
        "    reader = csv.reader(csvfile, delimiter=',')\n",
        "    for row in reader:\n",
        "        list_item=[]\n",
        "        list_item.append(row[5])\n",
        "        this_label=row[0]\n",
        "        if this_label=='0':\n",
        "            list_item.append(0)\n",
        "        else:\n",
        "            list_item.append(1)\n",
        "        num_sentences = num_sentences + 1\n",
        "        corpus.append(list_item)\n"
      ],
      "execution_count": 3,
      "outputs": [
        {
          "output_type": "stream",
          "text": [
            "--2020-12-06 15:28:27--  https://storage.googleapis.com/laurencemoroney-blog.appspot.com/training_cleaned.csv\n",
            "Resolving storage.googleapis.com (storage.googleapis.com)... 74.125.20.128, 74.125.28.128, 74.125.142.128, ...\n",
            "Connecting to storage.googleapis.com (storage.googleapis.com)|74.125.20.128|:443... connected.\n",
            "HTTP request sent, awaiting response... 200 OK\n",
            "Length: 238942690 (228M) [application/octet-stream]\n",
            "Saving to: ‘/tmp/training_cleaned.csv’\n",
            "\n",
            "/tmp/training_clean 100%[===================>] 227.87M   257MB/s    in 0.9s    \n",
            "\n",
            "2020-12-06 15:28:28 (257 MB/s) - ‘/tmp/training_cleaned.csv’ saved [238942690/238942690]\n",
            "\n"
          ],
          "name": "stdout"
        }
      ]
    },
    {
      "cell_type": "code",
      "metadata": {
        "colab": {
          "base_uri": "https://localhost:8080/"
        },
        "id": "3kxblBUjEUX-",
        "outputId": "55a2c60b-81ba-4d07-8f42-7cea5da96954"
      },
      "source": [
        "print(num_sentences)\n",
        "print(len(corpus))\n",
        "print(corpus[1])\n",
        "\n",
        "# Expected Output:\n",
        "# 1600000\n",
        "# 1600000\n",
        "# [\"is upset that he can't update his Facebook by texting it... and might cry as a result  School today also. Blah!\", 0]"
      ],
      "execution_count": 4,
      "outputs": [
        {
          "output_type": "stream",
          "text": [
            "1600000\n",
            "1600000\n",
            "[\"is upset that he can't update his Facebook by texting it... and might cry as a result  School today also. Blah!\", 0]\n"
          ],
          "name": "stdout"
        }
      ]
    },
    {
      "cell_type": "code",
      "metadata": {
        "id": "ohOGz24lsNAD"
      },
      "source": [
        "sentences=[]\n",
        "labels=[]\n",
        "random.shuffle(corpus)\n",
        "for x in range(training_size):\n",
        "    sentences.append(corpus[x][0])\n",
        "    labels.append(corpus[x][1])\n",
        "\n",
        "\n",
        "tokenizer = Tokenizer()\n",
        "tokenizer.fit_on_texts(sentences)\n",
        "\n",
        "word_index = tokenizer.word_index\n",
        "vocab_size=len(word_index)\n",
        "\n",
        "sequences = tokenizer.texts_to_sequences(sentences)\n",
        "padded = pad_sequences(sequences, maxlen=max_length, padding=padding_type, truncating=trunc_type)\n",
        "\n",
        "split = int(test_portion * training_size)\n",
        "\n",
        "test_sequences = padded[0:split]\n",
        "training_sequences = padded[split:training_size]\n",
        "test_labels = labels[0:split]\n",
        "training_labels = labels[split:training_size]"
      ],
      "execution_count": 5,
      "outputs": []
    },
    {
      "cell_type": "code",
      "metadata": {
        "colab": {
          "base_uri": "https://localhost:8080/"
        },
        "id": "gIrtRem1En3N",
        "outputId": "d85caf44-39d6-4fc9-fc5d-5dd52ce77f02"
      },
      "source": [
        "print(vocab_size)\n",
        "print(word_index['i'])\n",
        "# Expected Output\n",
        "# 138858\n",
        "# 1"
      ],
      "execution_count": 6,
      "outputs": [
        {
          "output_type": "stream",
          "text": [
            "138504\n",
            "1\n"
          ],
          "name": "stdout"
        }
      ]
    },
    {
      "cell_type": "code",
      "metadata": {
        "colab": {
          "base_uri": "https://localhost:8080/"
        },
        "id": "C1zdgJkusRh0",
        "outputId": "2245516c-4dda-4dd6-97c2-03c4ef8d3f88"
      },
      "source": [
        "# Note this is the 100 dimension version of GloVe from Stanford\n",
        "# I unzipped and hosted it on my site to make this notebook easier\n",
        "!wget --no-check-certificate \\\n",
        "    https://storage.googleapis.com/laurencemoroney-blog.appspot.com/glove.6B.100d.txt \\\n",
        "    -O /tmp/glove.6B.100d.txt\n",
        "embeddings_index = {};\n",
        "with open('/tmp/glove.6B.100d.txt') as f:\n",
        "    for line in f:\n",
        "        values = line.split();\n",
        "        word = values[0];\n",
        "        coefs = np.asarray(values[1:], dtype='float32');\n",
        "        embeddings_index[word] = coefs;\n",
        "\n",
        "embeddings_matrix = np.zeros((vocab_size+1, embedding_dim));\n",
        "for word, i in word_index.items():\n",
        "    embedding_vector = embeddings_index.get(word);\n",
        "    if embedding_vector is not None:\n",
        "        embeddings_matrix[i] = embedding_vector;"
      ],
      "execution_count": 7,
      "outputs": [
        {
          "output_type": "stream",
          "text": [
            "--2020-12-06 15:28:40--  https://storage.googleapis.com/laurencemoroney-blog.appspot.com/glove.6B.100d.txt\n",
            "Resolving storage.googleapis.com (storage.googleapis.com)... 74.125.20.128, 74.125.142.128, 74.125.195.128, ...\n",
            "Connecting to storage.googleapis.com (storage.googleapis.com)|74.125.20.128|:443... connected.\n",
            "HTTP request sent, awaiting response... 200 OK\n",
            "Length: 347116733 (331M) [text/plain]\n",
            "Saving to: ‘/tmp/glove.6B.100d.txt’\n",
            "\n",
            "/tmp/glove.6B.100d. 100%[===================>] 331.04M   261MB/s    in 1.3s    \n",
            "\n",
            "2020-12-06 15:28:42 (261 MB/s) - ‘/tmp/glove.6B.100d.txt’ saved [347116733/347116733]\n",
            "\n"
          ],
          "name": "stdout"
        }
      ]
    },
    {
      "cell_type": "code",
      "metadata": {
        "colab": {
          "base_uri": "https://localhost:8080/"
        },
        "id": "71NLk_lpFLNt",
        "outputId": "21860503-af7f-4efd-a346-6a07f8653879"
      },
      "source": [
        "print(len(embeddings_matrix))\n",
        "# Expected Output\n",
        "# 138859"
      ],
      "execution_count": 8,
      "outputs": [
        {
          "output_type": "stream",
          "text": [
            "138505\n"
          ],
          "name": "stdout"
        }
      ]
    },
    {
      "cell_type": "code",
      "metadata": {
        "colab": {
          "base_uri": "https://localhost:8080/"
        },
        "id": "iKKvbuEBOGFz",
        "outputId": "ff11601e-80c1-4925-91a6-0f94ba276569"
      },
      "source": [
        "model = tf.keras.Sequential([\n",
        "    tf.keras.layers.Embedding(vocab_size+1, embedding_dim, input_length=max_length, weights=[embeddings_matrix], trainable=False),\n",
        "    tf.keras.layers.Dropout(0.2),\n",
        "    tf.keras.layers.Conv1D(64, 5, activation='relu'),\n",
        "    tf.keras.layers.MaxPooling1D(pool_size=4),\n",
        "    tf.keras.layers.LSTM(64),\n",
        "    tf.keras.layers.Dense(1, activation='sigmoid')\n",
        "])\n",
        "model.compile(loss='binary_crossentropy',optimizer='adam',metrics=['accuracy'])\n",
        "model.summary()\n",
        "\n",
        "num_epochs = 50\n",
        "\n",
        "training_padded = np.array(training_sequences)\n",
        "training_labels = np.array(training_labels)\n",
        "testing_padded = np.array(test_sequences)\n",
        "testing_labels = np.array(test_labels)\n",
        "\n",
        "history = model.fit(training_padded, training_labels, epochs=num_epochs, validation_data=(testing_padded, testing_labels), verbose=2)\n",
        "\n",
        "print(\"Training Complete\")"
      ],
      "execution_count": 9,
      "outputs": [
        {
          "output_type": "stream",
          "text": [
            "Model: \"sequential\"\n",
            "_________________________________________________________________\n",
            "Layer (type)                 Output Shape              Param #   \n",
            "=================================================================\n",
            "embedding (Embedding)        (None, 16, 100)           13850500  \n",
            "_________________________________________________________________\n",
            "dropout (Dropout)            (None, 16, 100)           0         \n",
            "_________________________________________________________________\n",
            "conv1d (Conv1D)              (None, 12, 64)            32064     \n",
            "_________________________________________________________________\n",
            "max_pooling1d (MaxPooling1D) (None, 3, 64)             0         \n",
            "_________________________________________________________________\n",
            "lstm (LSTM)                  (None, 64)                33024     \n",
            "_________________________________________________________________\n",
            "dense (Dense)                (None, 1)                 65        \n",
            "=================================================================\n",
            "Total params: 13,915,653\n",
            "Trainable params: 65,153\n",
            "Non-trainable params: 13,850,500\n",
            "_________________________________________________________________\n",
            "Epoch 1/50\n",
            "4500/4500 - 16s - loss: 0.5646 - accuracy: 0.7012 - val_loss: 0.5169 - val_accuracy: 0.7421\n",
            "Epoch 2/50\n",
            "4500/4500 - 15s - loss: 0.5239 - accuracy: 0.7344 - val_loss: 0.5108 - val_accuracy: 0.7456\n",
            "Epoch 3/50\n",
            "4500/4500 - 15s - loss: 0.5072 - accuracy: 0.7465 - val_loss: 0.4978 - val_accuracy: 0.7558\n",
            "Epoch 4/50\n",
            "4500/4500 - 15s - loss: 0.4963 - accuracy: 0.7545 - val_loss: 0.5032 - val_accuracy: 0.7459\n",
            "Epoch 5/50\n",
            "4500/4500 - 15s - loss: 0.4884 - accuracy: 0.7589 - val_loss: 0.4968 - val_accuracy: 0.7566\n",
            "Epoch 6/50\n",
            "4500/4500 - 15s - loss: 0.4809 - accuracy: 0.7637 - val_loss: 0.4918 - val_accuracy: 0.7607\n",
            "Epoch 7/50\n",
            "4500/4500 - 15s - loss: 0.4759 - accuracy: 0.7678 - val_loss: 0.5024 - val_accuracy: 0.7552\n",
            "Epoch 8/50\n",
            "4500/4500 - 15s - loss: 0.4706 - accuracy: 0.7705 - val_loss: 0.4985 - val_accuracy: 0.7541\n",
            "Epoch 9/50\n",
            "4500/4500 - 15s - loss: 0.4659 - accuracy: 0.7725 - val_loss: 0.4968 - val_accuracy: 0.7551\n",
            "Epoch 10/50\n",
            "4500/4500 - 15s - loss: 0.4620 - accuracy: 0.7765 - val_loss: 0.4964 - val_accuracy: 0.7581\n",
            "Epoch 11/50\n",
            "4500/4500 - 15s - loss: 0.4590 - accuracy: 0.7776 - val_loss: 0.4949 - val_accuracy: 0.7584\n",
            "Epoch 12/50\n",
            "4500/4500 - 15s - loss: 0.4559 - accuracy: 0.7791 - val_loss: 0.4984 - val_accuracy: 0.7546\n",
            "Epoch 13/50\n",
            "4500/4500 - 14s - loss: 0.4534 - accuracy: 0.7809 - val_loss: 0.5048 - val_accuracy: 0.7544\n",
            "Epoch 14/50\n",
            "4500/4500 - 14s - loss: 0.4506 - accuracy: 0.7826 - val_loss: 0.5010 - val_accuracy: 0.7546\n",
            "Epoch 15/50\n",
            "4500/4500 - 14s - loss: 0.4489 - accuracy: 0.7836 - val_loss: 0.5017 - val_accuracy: 0.7544\n",
            "Epoch 16/50\n",
            "4500/4500 - 14s - loss: 0.4466 - accuracy: 0.7846 - val_loss: 0.5064 - val_accuracy: 0.7534\n",
            "Epoch 17/50\n",
            "4500/4500 - 14s - loss: 0.4459 - accuracy: 0.7860 - val_loss: 0.5041 - val_accuracy: 0.7531\n",
            "Epoch 18/50\n",
            "4500/4500 - 15s - loss: 0.4431 - accuracy: 0.7870 - val_loss: 0.5091 - val_accuracy: 0.7525\n",
            "Epoch 19/50\n",
            "4500/4500 - 14s - loss: 0.4424 - accuracy: 0.7883 - val_loss: 0.5099 - val_accuracy: 0.7509\n",
            "Epoch 20/50\n",
            "4500/4500 - 14s - loss: 0.4414 - accuracy: 0.7876 - val_loss: 0.5038 - val_accuracy: 0.7544\n",
            "Epoch 21/50\n",
            "4500/4500 - 15s - loss: 0.4392 - accuracy: 0.7889 - val_loss: 0.5052 - val_accuracy: 0.7553\n",
            "Epoch 22/50\n",
            "4500/4500 - 15s - loss: 0.4376 - accuracy: 0.7913 - val_loss: 0.5109 - val_accuracy: 0.7529\n",
            "Epoch 23/50\n",
            "4500/4500 - 14s - loss: 0.4362 - accuracy: 0.7923 - val_loss: 0.5087 - val_accuracy: 0.7516\n",
            "Epoch 24/50\n",
            "4500/4500 - 14s - loss: 0.4347 - accuracy: 0.7935 - val_loss: 0.5069 - val_accuracy: 0.7549\n",
            "Epoch 25/50\n",
            "4500/4500 - 14s - loss: 0.4353 - accuracy: 0.7916 - val_loss: 0.5087 - val_accuracy: 0.7547\n",
            "Epoch 26/50\n",
            "4500/4500 - 14s - loss: 0.4350 - accuracy: 0.7921 - val_loss: 0.5119 - val_accuracy: 0.7502\n",
            "Epoch 27/50\n",
            "4500/4500 - 14s - loss: 0.4347 - accuracy: 0.7925 - val_loss: 0.5072 - val_accuracy: 0.7572\n",
            "Epoch 28/50\n",
            "4500/4500 - 14s - loss: 0.4334 - accuracy: 0.7934 - val_loss: 0.5112 - val_accuracy: 0.7523\n",
            "Epoch 29/50\n",
            "4500/4500 - 15s - loss: 0.4307 - accuracy: 0.7955 - val_loss: 0.5136 - val_accuracy: 0.7533\n",
            "Epoch 30/50\n",
            "4500/4500 - 14s - loss: 0.4321 - accuracy: 0.7936 - val_loss: 0.5116 - val_accuracy: 0.7538\n",
            "Epoch 31/50\n",
            "4500/4500 - 14s - loss: 0.4309 - accuracy: 0.7952 - val_loss: 0.5126 - val_accuracy: 0.7527\n",
            "Epoch 32/50\n",
            "4500/4500 - 14s - loss: 0.4293 - accuracy: 0.7949 - val_loss: 0.5187 - val_accuracy: 0.7517\n",
            "Epoch 33/50\n",
            "4500/4500 - 14s - loss: 0.4290 - accuracy: 0.7964 - val_loss: 0.5160 - val_accuracy: 0.7523\n",
            "Epoch 34/50\n",
            "4500/4500 - 14s - loss: 0.4294 - accuracy: 0.7952 - val_loss: 0.5195 - val_accuracy: 0.7536\n",
            "Epoch 35/50\n",
            "4500/4500 - 14s - loss: 0.4289 - accuracy: 0.7964 - val_loss: 0.5152 - val_accuracy: 0.7545\n",
            "Epoch 36/50\n",
            "4500/4500 - 14s - loss: 0.4277 - accuracy: 0.7971 - val_loss: 0.5135 - val_accuracy: 0.7501\n",
            "Epoch 37/50\n",
            "4500/4500 - 14s - loss: 0.4288 - accuracy: 0.7945 - val_loss: 0.5144 - val_accuracy: 0.7547\n",
            "Epoch 38/50\n",
            "4500/4500 - 14s - loss: 0.4276 - accuracy: 0.7966 - val_loss: 0.5146 - val_accuracy: 0.7509\n",
            "Epoch 39/50\n",
            "4500/4500 - 14s - loss: 0.4271 - accuracy: 0.7969 - val_loss: 0.5193 - val_accuracy: 0.7517\n",
            "Epoch 40/50\n",
            "4500/4500 - 14s - loss: 0.4274 - accuracy: 0.7970 - val_loss: 0.5184 - val_accuracy: 0.7509\n",
            "Epoch 41/50\n",
            "4500/4500 - 14s - loss: 0.4263 - accuracy: 0.7978 - val_loss: 0.5196 - val_accuracy: 0.7496\n",
            "Epoch 42/50\n",
            "4500/4500 - 14s - loss: 0.4249 - accuracy: 0.7982 - val_loss: 0.5156 - val_accuracy: 0.7494\n",
            "Epoch 43/50\n",
            "4500/4500 - 15s - loss: 0.4251 - accuracy: 0.7973 - val_loss: 0.5181 - val_accuracy: 0.7486\n",
            "Epoch 44/50\n",
            "4500/4500 - 14s - loss: 0.4257 - accuracy: 0.7983 - val_loss: 0.5230 - val_accuracy: 0.7517\n",
            "Epoch 45/50\n",
            "4500/4500 - 14s - loss: 0.4248 - accuracy: 0.7978 - val_loss: 0.5203 - val_accuracy: 0.7526\n",
            "Epoch 46/50\n",
            "4500/4500 - 14s - loss: 0.4234 - accuracy: 0.7992 - val_loss: 0.5209 - val_accuracy: 0.7514\n",
            "Epoch 47/50\n",
            "4500/4500 - 14s - loss: 0.4242 - accuracy: 0.7974 - val_loss: 0.5212 - val_accuracy: 0.7513\n",
            "Epoch 48/50\n",
            "4500/4500 - 14s - loss: 0.4238 - accuracy: 0.7991 - val_loss: 0.5186 - val_accuracy: 0.7534\n",
            "Epoch 49/50\n",
            "4500/4500 - 14s - loss: 0.4256 - accuracy: 0.7977 - val_loss: 0.5212 - val_accuracy: 0.7534\n",
            "Epoch 50/50\n",
            "4500/4500 - 14s - loss: 0.4241 - accuracy: 0.7989 - val_loss: 0.5200 - val_accuracy: 0.7506\n",
            "Training Complete\n"
          ],
          "name": "stdout"
        }
      ]
    },
    {
      "cell_type": "code",
      "metadata": {
        "colab": {
          "base_uri": "https://localhost:8080/",
          "height": 606
        },
        "id": "qxju4ItJKO8F",
        "outputId": "721d079b-d927-4fbb-f5af-13bdc47d7857"
      },
      "source": [
        "import matplotlib.image  as mpimg\n",
        "import matplotlib.pyplot as plt\n",
        "\n",
        "#-----------------------------------------------------------\n",
        "# Retrieve a list of list results on training and test data\n",
        "# sets for each training epoch\n",
        "#-----------------------------------------------------------\n",
        "acc=history.history['accuracy']\n",
        "val_acc=history.history['val_accuracy']\n",
        "loss=history.history['loss']\n",
        "val_loss=history.history['val_loss']\n",
        "\n",
        "epochs=range(len(acc)) # Get number of epochs\n",
        "\n",
        "#------------------------------------------------\n",
        "# Plot training and validation accuracy per epoch\n",
        "#------------------------------------------------\n",
        "plt.plot(epochs, acc, 'r')\n",
        "plt.plot(epochs, val_acc, 'b')\n",
        "plt.title('Training and validation accuracy')\n",
        "plt.xlabel(\"Epochs\")\n",
        "plt.ylabel(\"Accuracy\")\n",
        "plt.legend([\"Accuracy\", \"Validation Accuracy\"])\n",
        "\n",
        "plt.figure()\n",
        "\n",
        "#------------------------------------------------\n",
        "# Plot training and validation loss per epoch\n",
        "#------------------------------------------------\n",
        "plt.plot(epochs, loss, 'r')\n",
        "plt.plot(epochs, val_loss, 'b')\n",
        "plt.title('Training and validation loss')\n",
        "plt.xlabel(\"Epochs\")\n",
        "plt.ylabel(\"Loss\")\n",
        "plt.legend([\"Loss\", \"Validation Loss\"])\n",
        "\n",
        "plt.figure()\n",
        "\n",
        "\n",
        "# Expected Output\n",
        "# A chart where the validation loss does not increase sharply!"
      ],
      "execution_count": 10,
      "outputs": [
        {
          "output_type": "execute_result",
          "data": {
            "text/plain": [
              "<Figure size 432x288 with 0 Axes>"
            ]
          },
          "metadata": {
            "tags": []
          },
          "execution_count": 10
        },
        {
          "output_type": "display_data",
          "data": {
            "image/png": "[encoded data removed]",
            "text/plain": [
              "<Figure size 432x288 with 1 Axes>"
            ]
          },
          "metadata": {
            "tags": [],
            "needs_background": "light"
          }
        },
        {
          "output_type": "display_data",
          "data": {
            "image/png": "[encoded data removed]",
            "text/plain": [
              "<Figure size 432x288 with 1 Axes>"
            ]
          },
          "metadata": {
            "tags": [],
            "needs_background": "light"
          }
        },
        {
          "output_type": "display_data",
          "data": {
            "text/plain": [
              "<Figure size 432x288 with 0 Axes>"
            ]
          },
          "metadata": {
            "tags": []
          }
        }
      ]
    }
  ]
}