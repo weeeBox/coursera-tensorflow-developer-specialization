{
  "nbformat": 4,
  "nbformat_minor": 0,
  "metadata": {
    "accelerator": "GPU",
    "colab": {
      "name": "Course 3 - Week 3 - Lesson 2c.ipynb",
      "provenance": [],
      "collapsed_sections": []
    },
    "kernelspec": {
      "display_name": "Python 3",
      "language": "python",
      "name": "python3"
    },
    "language_info": {
      "codemirror_mode": {
        "name": "ipython",
        "version": 3
      },
      "file_extension": ".py",
      "mimetype": "text/x-python",
      "name": "python",
      "nbconvert_exporter": "python",
      "pygments_lexer": "ipython3",
      "version": "3.7.6"
    }
  },
  "cells": [
    {
      "cell_type": "code",
      "metadata": {
        "id": "zX4Kg8DUTKWO"
      },
      "source": [
        "#@title Licensed under the Apache License, Version 2.0 (the \"License\");\n",
        "# you may not use this file except in compliance with the License.\n",
        "# You may obtain a copy of the License at\n",
        "#\n",
        "# https://www.apache.org/licenses/LICENSE-2.0\n",
        "#\n",
        "# Unless required by applicable law or agreed to in writing, software\n",
        "# distributed under the License is distributed on an \"AS IS\" BASIS,\n",
        "# WITHOUT WARRANTIES OR CONDITIONS OF ANY KIND, either express or implied.\n",
        "# See the License for the specific language governing permissions and\n",
        "# limitations under the License."
      ],
      "execution_count": 3,
      "outputs": []
    },
    {
      "cell_type": "markdown",
      "metadata": {
        "id": "avgdEILzKjQ4"
      },
      "source": [
        "<a href=\"https://colab.research.google.com/github/lmoroney/dlaicourse/blob/master/TensorFlow%20In%20Practice/Course%203%20-%20NLP/Course%203%20-%20Week%203%20-%20Lesson%202c.ipynb\" target=\"_parent\"><img src=\"https://colab.research.google.com/assets/colab-badge.svg\" alt=\"Open In Colab\"/></a>"
      ]
    },
    {
      "cell_type": "code",
      "metadata": {
        "colab": {
          "base_uri": "https://localhost:8080/"
        },
        "id": "jGwXGIXvFhXW",
        "outputId": "42126722-e4ae-4525-b42d-80b212375957"
      },
      "source": [
        "import numpy as np\n",
        "\n",
        "import json\n",
        "import tensorflow as tf\n",
        "\n",
        "from tensorflow.keras.preprocessing.text import Tokenizer\n",
        "from tensorflow.keras.preprocessing.sequence import pad_sequences\n",
        "\n",
        "!wget --no-check-certificate \\\n",
        "    https://storage.googleapis.com/laurencemoroney-blog.appspot.com/sarcasm.json \\\n",
        "    -O /tmp/sarcasm.json\n",
        "\n",
        "vocab_size = 1000\n",
        "embedding_dim = 16\n",
        "max_length = 120\n",
        "trunc_type='post'\n",
        "padding_type='post'\n",
        "oov_tok = \"<OOV>\"\n",
        "training_size = 20000\n",
        "\n",
        "\n",
        "with open(\"/tmp/sarcasm.json\", 'r') as f:\n",
        "    datastore = json.load(f)\n",
        "\n",
        "\n",
        "sentences = []\n",
        "labels = []\n",
        "urls = []\n",
        "for item in datastore:\n",
        "    sentences.append(item['headline'])\n",
        "    labels.append(item['is_sarcastic'])\n",
        "\n",
        "training_sentences = sentences[0:training_size]\n",
        "testing_sentences = sentences[training_size:]\n",
        "training_labels = labels[0:training_size]\n",
        "testing_labels = labels[training_size:]\n",
        "\n",
        "tokenizer = Tokenizer(num_words=vocab_size, oov_token=oov_tok)\n",
        "tokenizer.fit_on_texts(training_sentences)\n",
        "\n",
        "word_index = tokenizer.word_index\n",
        "\n",
        "training_sequences = tokenizer.texts_to_sequences(training_sentences)\n",
        "training_padded = pad_sequences(training_sequences, maxlen=max_length, padding=padding_type, truncating=trunc_type)\n",
        "\n",
        "testing_sequences = tokenizer.texts_to_sequences(testing_sentences)\n",
        "testing_padded = pad_sequences(testing_sequences, maxlen=max_length, padding=padding_type, truncating=trunc_type)\n",
        "\n",
        "model = tf.keras.Sequential([\n",
        "    tf.keras.layers.Embedding(vocab_size, embedding_dim, input_length=max_length),\n",
        "    tf.keras.layers.Conv1D(128, 5, activation='relu'),\n",
        "    tf.keras.layers.GlobalMaxPooling1D(),\n",
        "    tf.keras.layers.Dense(24, activation='relu'),\n",
        "    tf.keras.layers.Dense(1, activation='sigmoid')\n",
        "])\n",
        "model.compile(loss='binary_crossentropy',optimizer='adam',metrics=['accuracy'])\n",
        "model.summary()\n",
        "\n",
        "num_epochs = 50\n",
        "\n",
        "training_padded = np.array(training_padded)\n",
        "training_labels = np.array(training_labels)\n",
        "testing_padded = np.array(testing_padded)\n",
        "testing_labels = np.array(testing_labels)\n",
        "\n",
        "history = model.fit(training_padded, training_labels, epochs=num_epochs, validation_data=(testing_padded, testing_labels), verbose=1)\n"
      ],
      "execution_count": 4,
      "outputs": [
        {
          "output_type": "stream",
          "text": [
            "--2020-12-06 17:47:23--  https://storage.googleapis.com/laurencemoroney-blog.appspot.com/sarcasm.json\n",
            "Resolving storage.googleapis.com (storage.googleapis.com)... 172.217.15.80, 172.253.63.128, 172.217.164.176, ...\n",
            "Connecting to storage.googleapis.com (storage.googleapis.com)|172.217.15.80|:443... connected.\n",
            "HTTP request sent, awaiting response... 200 OK\n",
            "Length: 5643545 (5.4M) [application/json]\n",
            "Saving to: ‘/tmp/sarcasm.json’\n",
            "\n",
            "\r/tmp/sarcasm.json     0%[                    ]       0  --.-KB/s               \r/tmp/sarcasm.json   100%[===================>]   5.38M  --.-KB/s    in 0.02s   \n",
            "\n",
            "2020-12-06 17:47:23 (280 MB/s) - ‘/tmp/sarcasm.json’ saved [5643545/5643545]\n",
            "\n",
            "Model: \"sequential\"\n",
            "_________________________________________________________________\n",
            "Layer (type)                 Output Shape              Param #   \n",
            "=================================================================\n",
            "embedding (Embedding)        (None, 120, 16)           16000     \n",
            "_________________________________________________________________\n",
            "conv1d (Conv1D)              (None, 116, 128)          10368     \n",
            "_________________________________________________________________\n",
            "global_max_pooling1d (Global (None, 128)               0         \n",
            "_________________________________________________________________\n",
            "dense (Dense)                (None, 24)                3096      \n",
            "_________________________________________________________________\n",
            "dense_1 (Dense)              (None, 1)                 25        \n",
            "=================================================================\n",
            "Total params: 29,489\n",
            "Trainable params: 29,489\n",
            "Non-trainable params: 0\n",
            "_________________________________________________________________\n",
            "Epoch 1/50\n",
            "625/625 [==============================] - 3s 4ms/step - loss: 0.4801 - accuracy: 0.7579 - val_loss: 0.4076 - val_accuracy: 0.8126\n",
            "Epoch 2/50\n",
            "625/625 [==============================] - 2s 4ms/step - loss: 0.3539 - accuracy: 0.8421 - val_loss: 0.3915 - val_accuracy: 0.8238\n",
            "Epoch 3/50\n",
            "625/625 [==============================] - 2s 4ms/step - loss: 0.3164 - accuracy: 0.8622 - val_loss: 0.4047 - val_accuracy: 0.8182\n",
            "Epoch 4/50\n",
            "625/625 [==============================] - 2s 4ms/step - loss: 0.2821 - accuracy: 0.8781 - val_loss: 0.4024 - val_accuracy: 0.8202\n",
            "Epoch 5/50\n",
            "625/625 [==============================] - 2s 4ms/step - loss: 0.2495 - accuracy: 0.8947 - val_loss: 0.4300 - val_accuracy: 0.8162\n",
            "Epoch 6/50\n",
            "625/625 [==============================] - 2s 4ms/step - loss: 0.2182 - accuracy: 0.9123 - val_loss: 0.4736 - val_accuracy: 0.8150\n",
            "Epoch 7/50\n",
            "625/625 [==============================] - 2s 4ms/step - loss: 0.1886 - accuracy: 0.9251 - val_loss: 0.5044 - val_accuracy: 0.8135\n",
            "Epoch 8/50\n",
            "625/625 [==============================] - 2s 4ms/step - loss: 0.1589 - accuracy: 0.9380 - val_loss: 0.5704 - val_accuracy: 0.8067\n",
            "Epoch 9/50\n",
            "625/625 [==============================] - 2s 4ms/step - loss: 0.1339 - accuracy: 0.9498 - val_loss: 0.6353 - val_accuracy: 0.8028\n",
            "Epoch 10/50\n",
            "625/625 [==============================] - 2s 4ms/step - loss: 0.1088 - accuracy: 0.9605 - val_loss: 0.7027 - val_accuracy: 0.8058\n",
            "Epoch 11/50\n",
            "625/625 [==============================] - 2s 4ms/step - loss: 0.0888 - accuracy: 0.9683 - val_loss: 0.7782 - val_accuracy: 0.7948\n",
            "Epoch 12/50\n",
            "625/625 [==============================] - 2s 4ms/step - loss: 0.0751 - accuracy: 0.9732 - val_loss: 0.8752 - val_accuracy: 0.8009\n",
            "Epoch 13/50\n",
            "625/625 [==============================] - 2s 4ms/step - loss: 0.0629 - accuracy: 0.9775 - val_loss: 0.9707 - val_accuracy: 0.7961\n",
            "Epoch 14/50\n",
            "625/625 [==============================] - 2s 4ms/step - loss: 0.0568 - accuracy: 0.9801 - val_loss: 1.0500 - val_accuracy: 0.7986\n",
            "Epoch 15/50\n",
            "625/625 [==============================] - 2s 4ms/step - loss: 0.0480 - accuracy: 0.9826 - val_loss: 1.1829 - val_accuracy: 0.7907\n",
            "Epoch 16/50\n",
            "625/625 [==============================] - 2s 4ms/step - loss: 0.0473 - accuracy: 0.9819 - val_loss: 1.2749 - val_accuracy: 0.7918\n",
            "Epoch 17/50\n",
            "625/625 [==============================] - 2s 4ms/step - loss: 0.0406 - accuracy: 0.9849 - val_loss: 1.2891 - val_accuracy: 0.7894\n",
            "Epoch 18/50\n",
            "625/625 [==============================] - 2s 4ms/step - loss: 0.0407 - accuracy: 0.9846 - val_loss: 1.3766 - val_accuracy: 0.7927\n",
            "Epoch 19/50\n",
            "625/625 [==============================] - 2s 4ms/step - loss: 0.0383 - accuracy: 0.9857 - val_loss: 1.4210 - val_accuracy: 0.7883\n",
            "Epoch 20/50\n",
            "625/625 [==============================] - 2s 4ms/step - loss: 0.0360 - accuracy: 0.9866 - val_loss: 1.4643 - val_accuracy: 0.7907\n",
            "Epoch 21/50\n",
            "625/625 [==============================] - 2s 4ms/step - loss: 0.0339 - accuracy: 0.9868 - val_loss: 1.5393 - val_accuracy: 0.7885\n",
            "Epoch 22/50\n",
            "625/625 [==============================] - 2s 4ms/step - loss: 0.0320 - accuracy: 0.9877 - val_loss: 1.6220 - val_accuracy: 0.7855\n",
            "Epoch 23/50\n",
            "625/625 [==============================] - 2s 4ms/step - loss: 0.0322 - accuracy: 0.9873 - val_loss: 1.6174 - val_accuracy: 0.7904\n",
            "Epoch 24/50\n",
            "625/625 [==============================] - 2s 4ms/step - loss: 0.0276 - accuracy: 0.9890 - val_loss: 1.7619 - val_accuracy: 0.7885\n",
            "Epoch 25/50\n",
            "625/625 [==============================] - 2s 4ms/step - loss: 0.0268 - accuracy: 0.9894 - val_loss: 1.7445 - val_accuracy: 0.7903\n",
            "Epoch 26/50\n",
            "625/625 [==============================] - 2s 4ms/step - loss: 0.0293 - accuracy: 0.9884 - val_loss: 1.7717 - val_accuracy: 0.7816\n",
            "Epoch 27/50\n",
            "625/625 [==============================] - 2s 4ms/step - loss: 0.0327 - accuracy: 0.9875 - val_loss: 1.8694 - val_accuracy: 0.7915\n",
            "Epoch 28/50\n",
            "625/625 [==============================] - 2s 4ms/step - loss: 0.0278 - accuracy: 0.9886 - val_loss: 1.9379 - val_accuracy: 0.7858\n",
            "Epoch 29/50\n",
            "625/625 [==============================] - 2s 4ms/step - loss: 0.0233 - accuracy: 0.9901 - val_loss: 1.9780 - val_accuracy: 0.7897\n",
            "Epoch 30/50\n",
            "625/625 [==============================] - 2s 4ms/step - loss: 0.0228 - accuracy: 0.9908 - val_loss: 2.0331 - val_accuracy: 0.7743\n",
            "Epoch 31/50\n",
            "625/625 [==============================] - 2s 4ms/step - loss: 0.0234 - accuracy: 0.9905 - val_loss: 2.0572 - val_accuracy: 0.7815\n",
            "Epoch 32/50\n",
            "625/625 [==============================] - 2s 4ms/step - loss: 0.0296 - accuracy: 0.9880 - val_loss: 2.0870 - val_accuracy: 0.7858\n",
            "Epoch 33/50\n",
            "625/625 [==============================] - 2s 4ms/step - loss: 0.0249 - accuracy: 0.9895 - val_loss: 2.0405 - val_accuracy: 0.7843\n",
            "Epoch 34/50\n",
            "625/625 [==============================] - 2s 4ms/step - loss: 0.0206 - accuracy: 0.9912 - val_loss: 2.2849 - val_accuracy: 0.7828\n",
            "Epoch 35/50\n",
            "625/625 [==============================] - 2s 4ms/step - loss: 0.0238 - accuracy: 0.9901 - val_loss: 2.0334 - val_accuracy: 0.7746\n",
            "Epoch 36/50\n",
            "625/625 [==============================] - 2s 4ms/step - loss: 0.0280 - accuracy: 0.9886 - val_loss: 2.2790 - val_accuracy: 0.7892\n",
            "Epoch 37/50\n",
            "625/625 [==============================] - 2s 4ms/step - loss: 0.0241 - accuracy: 0.9897 - val_loss: 2.2846 - val_accuracy: 0.7795\n",
            "Epoch 38/50\n",
            "625/625 [==============================] - 2s 4ms/step - loss: 0.0208 - accuracy: 0.9913 - val_loss: 2.1679 - val_accuracy: 0.7880\n",
            "Epoch 39/50\n",
            "625/625 [==============================] - 2s 4ms/step - loss: 0.0192 - accuracy: 0.9910 - val_loss: 2.4038 - val_accuracy: 0.7819\n",
            "Epoch 40/50\n",
            "625/625 [==============================] - 2s 4ms/step - loss: 0.0218 - accuracy: 0.9911 - val_loss: 2.2526 - val_accuracy: 0.7885\n",
            "Epoch 41/50\n",
            "625/625 [==============================] - 2s 4ms/step - loss: 0.0205 - accuracy: 0.9915 - val_loss: 2.5290 - val_accuracy: 0.7812\n",
            "Epoch 42/50\n",
            "625/625 [==============================] - 2s 4ms/step - loss: 0.0214 - accuracy: 0.9902 - val_loss: 2.5358 - val_accuracy: 0.7849\n",
            "Epoch 43/50\n",
            "625/625 [==============================] - 2s 4ms/step - loss: 0.0236 - accuracy: 0.9900 - val_loss: 2.3380 - val_accuracy: 0.7925\n",
            "Epoch 44/50\n",
            "625/625 [==============================] - 2s 4ms/step - loss: 0.0245 - accuracy: 0.9896 - val_loss: 2.2695 - val_accuracy: 0.7882\n",
            "Epoch 45/50\n",
            "625/625 [==============================] - 2s 4ms/step - loss: 0.0202 - accuracy: 0.9911 - val_loss: 2.4060 - val_accuracy: 0.7849\n",
            "Epoch 46/50\n",
            "625/625 [==============================] - 2s 4ms/step - loss: 0.0176 - accuracy: 0.9922 - val_loss: 2.5191 - val_accuracy: 0.7849\n",
            "Epoch 47/50\n",
            "625/625 [==============================] - 2s 4ms/step - loss: 0.0206 - accuracy: 0.9911 - val_loss: 2.4385 - val_accuracy: 0.7906\n",
            "Epoch 48/50\n",
            "625/625 [==============================] - 2s 4ms/step - loss: 0.0245 - accuracy: 0.9899 - val_loss: 2.4521 - val_accuracy: 0.7907\n",
            "Epoch 49/50\n",
            "625/625 [==============================] - 2s 4ms/step - loss: 0.0198 - accuracy: 0.9908 - val_loss: 2.5889 - val_accuracy: 0.7863\n",
            "Epoch 50/50\n",
            "625/625 [==============================] - 2s 4ms/step - loss: 0.0180 - accuracy: 0.9922 - val_loss: 2.5852 - val_accuracy: 0.7918\n"
          ],
          "name": "stdout"
        }
      ]
    },
    {
      "cell_type": "code",
      "metadata": {
        "colab": {
          "base_uri": "https://localhost:8080/",
          "height": 542
        },
        "id": "g9DC6dmLF8DC",
        "outputId": "88053f85-216d-4b8d-d8d0-fa095c18965e"
      },
      "source": [
        "import matplotlib.pyplot as plt\n",
        "\n",
        "\n",
        "def plot_graphs(history, string):\n",
        "  plt.plot(history.history[string])\n",
        "  plt.plot(history.history['val_'+string])\n",
        "  plt.xlabel(\"Epochs\")\n",
        "  plt.ylabel(string)\n",
        "  plt.legend([string, 'val_'+string])\n",
        "  plt.show()\n",
        "\n",
        "plot_graphs(history, 'accuracy')\n",
        "plot_graphs(history, 'loss')"
      ],
      "execution_count": 5,
      "outputs": [
        {
          "output_type": "display_data",
          "data": {
            "image/png": "[encoded data removed]",
            "text/plain": [
              "<Figure size 432x288 with 1 Axes>"
            ]
          },
          "metadata": {
            "tags": [],
            "needs_background": "light"
          }
        },
        {
          "output_type": "display_data",
          "data": {
            "image/png": "[encoded data removed]",
            "text/plain": [
              "<Figure size 432x288 with 1 Axes>"
            ]
          },
          "metadata": {
            "tags": [],
            "needs_background": "light"
          }
        }
      ]
    },
    {
      "cell_type": "code",
      "metadata": {
        "id": "7ZEZIUppGhdi"
      },
      "source": [
        "model.save(\"test.h5\")"
      ],
      "execution_count": 6,
      "outputs": []
    }
  ]
}