{
  "nbformat": 4,
  "nbformat_minor": 0,
  "metadata": {
    "accelerator": "GPU",
    "colab": {
      "name": "Course 3 - Week 3 - Lesson 2.ipynb",
      "provenance": [],
      "collapsed_sections": [],
      "toc_visible": true
    },
    "kernelspec": {
      "display_name": "Python 3",
      "language": "python",
      "name": "python3"
    },
    "language_info": {
      "codemirror_mode": {
        "name": "ipython",
        "version": 3
      },
      "file_extension": ".py",
      "mimetype": "text/x-python",
      "name": "python",
      "nbconvert_exporter": "python",
      "pygments_lexer": "ipython3",
      "version": "3.7.6"
    }
  },
  "cells": [
    {
      "cell_type": "code",
      "metadata": {
        "id": "zX4Kg8DUTKWO"
      },
      "source": [
        "#@title Licensed under the Apache License, Version 2.0 (the \"License\");\n",
        "# you may not use this file except in compliance with the License.\n",
        "# You may obtain a copy of the License at\n",
        "#\n",
        "# https://www.apache.org/licenses/LICENSE-2.0\n",
        "#\n",
        "# Unless required by applicable law or agreed to in writing, software\n",
        "# distributed under the License is distributed on an \"AS IS\" BASIS,\n",
        "# WITHOUT WARRANTIES OR CONDITIONS OF ANY KIND, either express or implied.\n",
        "# See the License for the specific language governing permissions and\n",
        "# limitations under the License."
      ],
      "execution_count": null,
      "outputs": []
    },
    {
      "cell_type": "markdown",
      "metadata": {
        "id": "ypmvOzpfhE34"
      },
      "source": [
        "<a href=\"https://colab.research.google.com/github/lmoroney/dlaicourse/blob/master/TensorFlow%20In%20Practice/Course%203%20-%20NLP/Course%203%20-%20Week%203%20-%20Lesson%202.ipynb\" target=\"_parent\"><img src=\"https://colab.research.google.com/assets/colab-badge.svg\" alt=\"Open In Colab\"/></a>"
      ]
    },
    {
      "cell_type": "code",
      "metadata": {
        "colab": {
          "base_uri": "https://localhost:8080/"
        },
        "id": "jGwXGIXvFhXW",
        "outputId": "93ebfdfc-0b81-478e-8e36-d742024a29b7"
      },
      "source": [
        "import numpy as np\n",
        "\n",
        "import json\n",
        "import tensorflow as tf\n",
        "\n",
        "from tensorflow.keras.preprocessing.text import Tokenizer\n",
        "from tensorflow.keras.preprocessing.sequence import pad_sequences\n",
        "\n",
        "!wget --no-check-certificate \\\n",
        "    https://storage.googleapis.com/laurencemoroney-blog.appspot.com/sarcasm.json \\\n",
        "    -O /tmp/sarcasm.json\n",
        "\n",
        "vocab_size = 1000\n",
        "embedding_dim = 16\n",
        "max_length = 120\n",
        "trunc_type='post'\n",
        "padding_type='post'\n",
        "oov_tok = \"<OOV>\"\n",
        "training_size = 20000\n",
        "\n",
        "\n",
        "with open(\"/tmp/sarcasm.json\", 'r') as f:\n",
        "    datastore = json.load(f)\n",
        "\n",
        "\n",
        "sentences = []\n",
        "labels = []\n",
        "urls = []\n",
        "for item in datastore:\n",
        "    sentences.append(item['headline'])\n",
        "    labels.append(item['is_sarcastic'])\n",
        "\n",
        "training_sentences = sentences[0:training_size]\n",
        "testing_sentences = sentences[training_size:]\n",
        "training_labels = labels[0:training_size]\n",
        "testing_labels = labels[training_size:]\n",
        "\n",
        "tokenizer = Tokenizer(num_words=vocab_size, oov_token=oov_tok)\n",
        "tokenizer.fit_on_texts(training_sentences)\n",
        "\n",
        "word_index = tokenizer.word_index\n",
        "\n",
        "training_sequences = tokenizer.texts_to_sequences(training_sentences)\n",
        "training_padded = pad_sequences(training_sequences, maxlen=max_length, padding=padding_type, truncating=trunc_type)\n",
        "\n",
        "testing_sequences = tokenizer.texts_to_sequences(testing_sentences)\n",
        "testing_padded = pad_sequences(testing_sequences, maxlen=max_length, padding=padding_type, truncating=trunc_type)\n",
        "\n",
        "model = tf.keras.Sequential([\n",
        "    tf.keras.layers.Embedding(vocab_size, embedding_dim, input_length=max_length),\n",
        "    tf.keras.layers.Bidirectional(tf.keras.layers.LSTM(32)),\n",
        "    tf.keras.layers.Dense(24, activation='relu'),\n",
        "    tf.keras.layers.Dense(1, activation='sigmoid')\n",
        "])\n",
        "model.compile(loss='binary_crossentropy',optimizer='adam',metrics=['accuracy'])\n",
        "model.summary()\n",
        "\n",
        "num_epochs = 50\n",
        "training_padded = np.array(training_padded)\n",
        "training_labels = np.array(training_labels)\n",
        "testing_padded = np.array(testing_padded)\n",
        "testing_labels = np.array(testing_labels)\n",
        "history = model.fit(training_padded, training_labels, epochs=num_epochs, validation_data=(testing_padded, testing_labels), verbose=1)\n"
      ],
      "execution_count": 1,
      "outputs": [
        {
          "output_type": "stream",
          "text": [
            "--2020-12-06 17:29:10--  https://storage.googleapis.com/laurencemoroney-blog.appspot.com/sarcasm.json\n",
            "Resolving storage.googleapis.com (storage.googleapis.com)... 74.125.197.128, 74.125.28.128, 74.125.142.128, ...\n",
            "Connecting to storage.googleapis.com (storage.googleapis.com)|74.125.197.128|:443... connected.\n",
            "HTTP request sent, awaiting response... 200 OK\n",
            "Length: 5643545 (5.4M) [application/json]\n",
            "Saving to: ‘/tmp/sarcasm.json’\n",
            "\n",
            "\r/tmp/sarcasm.json     0%[                    ]       0  --.-KB/s               \r/tmp/sarcasm.json   100%[===================>]   5.38M  --.-KB/s    in 0.04s   \n",
            "\n",
            "2020-12-06 17:29:11 (152 MB/s) - ‘/tmp/sarcasm.json’ saved [5643545/5643545]\n",
            "\n",
            "Model: \"sequential\"\n",
            "_________________________________________________________________\n",
            "Layer (type)                 Output Shape              Param #   \n",
            "=================================================================\n",
            "embedding (Embedding)        (None, 120, 16)           16000     \n",
            "_________________________________________________________________\n",
            "bidirectional (Bidirectional (None, 64)                12544     \n",
            "_________________________________________________________________\n",
            "dense (Dense)                (None, 24)                1560      \n",
            "_________________________________________________________________\n",
            "dense_1 (Dense)              (None, 1)                 25        \n",
            "=================================================================\n",
            "Total params: 30,129\n",
            "Trainable params: 30,129\n",
            "Non-trainable params: 0\n",
            "_________________________________________________________________\n",
            "Epoch 1/50\n",
            "625/625 [==============================] - 10s 16ms/step - loss: 0.4543 - accuracy: 0.7743 - val_loss: 0.3847 - val_accuracy: 0.8199\n",
            "Epoch 2/50\n",
            "625/625 [==============================] - 9s 15ms/step - loss: 0.3511 - accuracy: 0.8417 - val_loss: 0.3837 - val_accuracy: 0.8255\n",
            "Epoch 3/50\n",
            "625/625 [==============================] - 9s 15ms/step - loss: 0.3283 - accuracy: 0.8549 - val_loss: 0.3719 - val_accuracy: 0.8323\n",
            "Epoch 4/50\n",
            "625/625 [==============================] - 9s 15ms/step - loss: 0.3148 - accuracy: 0.8578 - val_loss: 0.3726 - val_accuracy: 0.8313\n",
            "Epoch 5/50\n",
            "625/625 [==============================] - 9s 15ms/step - loss: 0.3048 - accuracy: 0.8637 - val_loss: 0.3743 - val_accuracy: 0.8317\n",
            "Epoch 6/50\n",
            "625/625 [==============================] - 9s 15ms/step - loss: 0.2974 - accuracy: 0.8683 - val_loss: 0.3786 - val_accuracy: 0.8302\n",
            "Epoch 7/50\n",
            "625/625 [==============================] - 9s 15ms/step - loss: 0.2898 - accuracy: 0.8723 - val_loss: 0.3847 - val_accuracy: 0.8265\n",
            "Epoch 8/50\n",
            "625/625 [==============================] - 9s 15ms/step - loss: 0.2806 - accuracy: 0.8773 - val_loss: 0.3883 - val_accuracy: 0.8313\n",
            "Epoch 9/50\n",
            "625/625 [==============================] - 9s 15ms/step - loss: 0.2726 - accuracy: 0.8824 - val_loss: 0.3905 - val_accuracy: 0.8314\n",
            "Epoch 10/50\n",
            "625/625 [==============================] - 9s 14ms/step - loss: 0.2627 - accuracy: 0.8848 - val_loss: 0.3897 - val_accuracy: 0.8286\n",
            "Epoch 11/50\n",
            "625/625 [==============================] - 9s 14ms/step - loss: 0.2554 - accuracy: 0.8907 - val_loss: 0.4057 - val_accuracy: 0.8240\n",
            "Epoch 12/50\n",
            "625/625 [==============================] - 9s 15ms/step - loss: 0.2468 - accuracy: 0.8938 - val_loss: 0.4176 - val_accuracy: 0.8234\n",
            "Epoch 13/50\n",
            "625/625 [==============================] - 9s 15ms/step - loss: 0.2378 - accuracy: 0.8992 - val_loss: 0.4198 - val_accuracy: 0.8222\n",
            "Epoch 14/50\n",
            "625/625 [==============================] - 9s 14ms/step - loss: 0.2296 - accuracy: 0.9049 - val_loss: 0.4478 - val_accuracy: 0.8235\n",
            "Epoch 15/50\n",
            "625/625 [==============================] - 9s 14ms/step - loss: 0.2223 - accuracy: 0.9057 - val_loss: 0.4584 - val_accuracy: 0.8255\n",
            "Epoch 16/50\n",
            "625/625 [==============================] - 9s 14ms/step - loss: 0.2155 - accuracy: 0.9114 - val_loss: 0.4821 - val_accuracy: 0.8173\n",
            "Epoch 17/50\n",
            "625/625 [==============================] - 9s 14ms/step - loss: 0.2062 - accuracy: 0.9164 - val_loss: 0.4795 - val_accuracy: 0.8183\n",
            "Epoch 18/50\n",
            "625/625 [==============================] - 9s 15ms/step - loss: 0.2007 - accuracy: 0.9171 - val_loss: 0.5253 - val_accuracy: 0.8174\n",
            "Epoch 19/50\n",
            "625/625 [==============================] - 9s 15ms/step - loss: 0.1918 - accuracy: 0.9218 - val_loss: 0.5618 - val_accuracy: 0.8180\n",
            "Epoch 20/50\n",
            "625/625 [==============================] - 9s 14ms/step - loss: 0.1884 - accuracy: 0.9227 - val_loss: 0.5600 - val_accuracy: 0.8137\n",
            "Epoch 21/50\n",
            "625/625 [==============================] - 9s 14ms/step - loss: 0.1810 - accuracy: 0.9251 - val_loss: 0.5920 - val_accuracy: 0.8106\n",
            "Epoch 22/50\n",
            "625/625 [==============================] - 9s 14ms/step - loss: 0.1751 - accuracy: 0.9276 - val_loss: 0.6026 - val_accuracy: 0.8170\n",
            "Epoch 23/50\n",
            "625/625 [==============================] - 9s 14ms/step - loss: 0.1672 - accuracy: 0.9307 - val_loss: 0.6747 - val_accuracy: 0.8095\n",
            "Epoch 24/50\n",
            "625/625 [==============================] - 9s 14ms/step - loss: 0.1643 - accuracy: 0.9330 - val_loss: 0.6381 - val_accuracy: 0.8134\n",
            "Epoch 25/50\n",
            "625/625 [==============================] - 9s 14ms/step - loss: 0.1579 - accuracy: 0.9349 - val_loss: 0.7071 - val_accuracy: 0.8125\n",
            "Epoch 26/50\n",
            "625/625 [==============================] - 9s 14ms/step - loss: 0.1487 - accuracy: 0.9392 - val_loss: 0.7535 - val_accuracy: 0.8065\n",
            "Epoch 27/50\n",
            "625/625 [==============================] - 9s 14ms/step - loss: 0.1472 - accuracy: 0.9388 - val_loss: 0.8059 - val_accuracy: 0.8111\n",
            "Epoch 28/50\n",
            "625/625 [==============================] - 9s 14ms/step - loss: 0.1383 - accuracy: 0.9412 - val_loss: 0.8484 - val_accuracy: 0.8083\n",
            "Epoch 29/50\n",
            "625/625 [==============================] - 9s 14ms/step - loss: 0.1320 - accuracy: 0.9454 - val_loss: 0.8732 - val_accuracy: 0.8103\n",
            "Epoch 30/50\n",
            "625/625 [==============================] - 9s 14ms/step - loss: 0.1317 - accuracy: 0.9444 - val_loss: 0.9690 - val_accuracy: 0.8034\n",
            "Epoch 31/50\n",
            "625/625 [==============================] - 9s 14ms/step - loss: 0.1194 - accuracy: 0.9492 - val_loss: 0.9669 - val_accuracy: 0.8031\n",
            "Epoch 32/50\n",
            "625/625 [==============================] - 9s 14ms/step - loss: 0.1157 - accuracy: 0.9505 - val_loss: 1.0191 - val_accuracy: 0.8094\n",
            "Epoch 33/50\n",
            "625/625 [==============================] - 9s 14ms/step - loss: 0.1146 - accuracy: 0.9507 - val_loss: 1.1332 - val_accuracy: 0.8010\n",
            "Epoch 34/50\n",
            "625/625 [==============================] - 9s 14ms/step - loss: 0.1083 - accuracy: 0.9532 - val_loss: 1.1029 - val_accuracy: 0.8067\n",
            "Epoch 35/50\n",
            "625/625 [==============================] - 9s 14ms/step - loss: 0.1017 - accuracy: 0.9556 - val_loss: 1.2655 - val_accuracy: 0.7971\n",
            "Epoch 36/50\n",
            "625/625 [==============================] - 9s 14ms/step - loss: 0.1023 - accuracy: 0.9555 - val_loss: 1.2177 - val_accuracy: 0.8083\n",
            "Epoch 37/50\n",
            "625/625 [==============================] - 9s 15ms/step - loss: 0.0943 - accuracy: 0.9583 - val_loss: 1.3328 - val_accuracy: 0.8061\n",
            "Epoch 38/50\n",
            "625/625 [==============================] - 9s 14ms/step - loss: 0.1003 - accuracy: 0.9561 - val_loss: 1.2738 - val_accuracy: 0.8064\n",
            "Epoch 39/50\n",
            "625/625 [==============================] - 9s 14ms/step - loss: 0.0896 - accuracy: 0.9611 - val_loss: 1.2801 - val_accuracy: 0.8094\n",
            "Epoch 40/50\n",
            "625/625 [==============================] - 9s 14ms/step - loss: 0.0812 - accuracy: 0.9644 - val_loss: 1.4312 - val_accuracy: 0.8068\n",
            "Epoch 41/50\n",
            "625/625 [==============================] - 9s 14ms/step - loss: 0.0819 - accuracy: 0.9643 - val_loss: 1.4192 - val_accuracy: 0.8067\n",
            "Epoch 42/50\n",
            "625/625 [==============================] - 9s 14ms/step - loss: 0.0808 - accuracy: 0.9652 - val_loss: 1.5274 - val_accuracy: 0.8046\n",
            "Epoch 43/50\n",
            "625/625 [==============================] - 9s 14ms/step - loss: 0.0812 - accuracy: 0.9646 - val_loss: 1.5516 - val_accuracy: 0.8091\n",
            "Epoch 44/50\n",
            "625/625 [==============================] - 9s 14ms/step - loss: 0.0738 - accuracy: 0.9679 - val_loss: 1.6135 - val_accuracy: 0.8053\n",
            "Epoch 45/50\n",
            "625/625 [==============================] - 9s 14ms/step - loss: 0.0763 - accuracy: 0.9675 - val_loss: 1.5870 - val_accuracy: 0.8034\n",
            "Epoch 46/50\n",
            "625/625 [==============================] - 8s 14ms/step - loss: 0.0683 - accuracy: 0.9694 - val_loss: 1.6598 - val_accuracy: 0.8012\n",
            "Epoch 47/50\n",
            "625/625 [==============================] - 9s 14ms/step - loss: 0.0628 - accuracy: 0.9716 - val_loss: 1.7019 - val_accuracy: 0.8019\n",
            "Epoch 48/50\n",
            "625/625 [==============================] - 9s 14ms/step - loss: 0.0629 - accuracy: 0.9711 - val_loss: 1.9356 - val_accuracy: 0.8064\n",
            "Epoch 49/50\n",
            "625/625 [==============================] - 9s 14ms/step - loss: 0.0623 - accuracy: 0.9718 - val_loss: 1.8749 - val_accuracy: 0.8018\n",
            "Epoch 50/50\n",
            "625/625 [==============================] - 9s 15ms/step - loss: 0.0711 - accuracy: 0.9685 - val_loss: 1.8359 - val_accuracy: 0.8065\n"
          ],
          "name": "stdout"
        }
      ]
    },
    {
      "cell_type": "code",
      "metadata": {
        "colab": {
          "base_uri": "https://localhost:8080/",
          "height": 542
        },
        "id": "g9DC6dmLF8DC",
        "outputId": "48f3c781-7236-414e-8d7e-c6fbfdd96575"
      },
      "source": [
        "import matplotlib.pyplot as plt\n",
        "\n",
        "\n",
        "def plot_graphs(history, string):\n",
        "  plt.plot(history.history[string])\n",
        "  plt.plot(history.history['val_'+string])\n",
        "  plt.xlabel(\"Epochs\")\n",
        "  plt.ylabel(string)\n",
        "  plt.legend([string, 'val_'+string])\n",
        "  plt.show()\n",
        "\n",
        "plot_graphs(history, 'accuracy')\n",
        "plot_graphs(history, 'loss')"
      ],
      "execution_count": 2,
      "outputs": [
        {
          "output_type": "display_data",
          "data": {
            "image/png": "[encoded data removed]",
            "text/plain": [
              "<Figure size 432x288 with 1 Axes>"
            ]
          },
          "metadata": {
            "tags": [],
            "needs_background": "light"
          }
        },
        {
          "output_type": "display_data",
          "data": {
            "image/png": "[encoded data removed]",
            "text/plain": [
              "<Figure size 432x288 with 1 Axes>"
            ]
          },
          "metadata": {
            "tags": [],
            "needs_background": "light"
          }
        }
      ]
    },
    {
      "cell_type": "code",
      "metadata": {
        "id": "7ZEZIUppGhdi"
      },
      "source": [
        "model.save(\"test.h5\")"
      ],
      "execution_count": 3,
      "outputs": []
    },
    {
      "cell_type": "code",
      "metadata": {
        "id": "XHosZ7r6GabI"
      },
      "source": [
        ""
      ],
      "execution_count": null,
      "outputs": []
    }
  ]
}