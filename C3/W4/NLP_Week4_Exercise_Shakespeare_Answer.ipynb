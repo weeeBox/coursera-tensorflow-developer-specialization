{
  "nbformat": 4,
  "nbformat_minor": 0,
  "metadata": {
    "accelerator": "GPU",
    "colab": {
      "name": "NLP_Week4_Exercise_Shakespeare_Answer.ipynb",
      "provenance": [],
      "toc_visible": true
    },
    "kernelspec": {
      "display_name": "Python 3",
      "name": "python3"
    }
  },
  "cells": [
    {
      "cell_type": "code",
      "metadata": {
        "id": "zX4Kg8DUTKWO"
      },
      "source": [
        "#@title Licensed under the Apache License, Version 2.0 (the \"License\");\n",
        "# you may not use this file except in compliance with the License.\n",
        "# You may obtain a copy of the License at\n",
        "#\n",
        "# https://www.apache.org/licenses/LICENSE-2.0\n",
        "#\n",
        "# Unless required by applicable law or agreed to in writing, software\n",
        "# distributed under the License is distributed on an \"AS IS\" BASIS,\n",
        "# WITHOUT WARRANTIES OR CONDITIONS OF ANY KIND, either express or implied.\n",
        "# See the License for the specific language governing permissions and\n",
        "# limitations under the License."
      ],
      "execution_count": 1,
      "outputs": []
    },
    {
      "cell_type": "code",
      "metadata": {
        "id": "BOwsuGQQY9OL"
      },
      "source": [
        "from tensorflow.keras.preprocessing.sequence import pad_sequences\n",
        "from tensorflow.keras.layers import Embedding, LSTM, Dense, Dropout, Bidirectional\n",
        "from tensorflow.keras.preprocessing.text import Tokenizer\n",
        "from tensorflow.keras.models import Sequential\n",
        "from tensorflow.keras.optimizers import Adam\n",
        "from tensorflow.keras import regularizers\n",
        "import tensorflow.keras.utils as ku \n",
        "import numpy as np "
      ],
      "execution_count": 2,
      "outputs": []
    },
    {
      "cell_type": "code",
      "metadata": {
        "colab": {
          "base_uri": "https://localhost:8080/"
        },
        "id": "PRnDnCW-Z7qv",
        "outputId": "8a6f7195-8e3e-49f7-a65e-5b1fa62f96dc"
      },
      "source": [
        "tokenizer = Tokenizer()\n",
        "!wget --no-check-certificate \\\n",
        "    https://storage.googleapis.com/laurencemoroney-blog.appspot.com/sonnets.txt \\\n",
        "    -O /tmp/sonnets.txt\n",
        "data = open('/tmp/sonnets.txt').read()\n",
        "\n",
        "corpus = data.lower().split(\"\\n\")\n",
        "\n",
        "\n",
        "tokenizer.fit_on_texts(corpus)\n",
        "total_words = len(tokenizer.word_index) + 1\n",
        "\n",
        "# create input sequences using list of tokens\n",
        "input_sequences = []\n",
        "for line in corpus:\n",
        "\ttoken_list = tokenizer.texts_to_sequences([line])[0]\n",
        "\tfor i in range(1, len(token_list)):\n",
        "\t\tn_gram_sequence = token_list[:i+1]\n",
        "\t\tinput_sequences.append(n_gram_sequence)\n",
        "\n",
        "\n",
        "# pad sequences \n",
        "max_sequence_len = max([len(x) for x in input_sequences])\n",
        "input_sequences = np.array(pad_sequences(input_sequences, maxlen=max_sequence_len, padding='pre'))\n",
        "\n",
        "# create predictors and label\n",
        "predictors, label = input_sequences[:,:-1],input_sequences[:,-1]\n",
        "\n",
        "label = ku.to_categorical(label, num_classes=total_words)"
      ],
      "execution_count": 3,
      "outputs": [
        {
          "output_type": "stream",
          "text": [
            "--2020-12-06 19:21:52--  https://storage.googleapis.com/laurencemoroney-blog.appspot.com/sonnets.txt\n",
            "Resolving storage.googleapis.com (storage.googleapis.com)... 74.125.142.128, 74.125.195.128, 2607:f8b0:400e:c08::80, ...\n",
            "Connecting to storage.googleapis.com (storage.googleapis.com)|74.125.142.128|:443... connected.\n",
            "HTTP request sent, awaiting response... 200 OK\n",
            "Length: 93578 (91K) [text/plain]\n",
            "Saving to: ‘/tmp/sonnets.txt’\n",
            "\n",
            "\r/tmp/sonnets.txt      0%[                    ]       0  --.-KB/s               \r/tmp/sonnets.txt    100%[===================>]  91.38K  --.-KB/s    in 0.001s  \n",
            "\n",
            "2020-12-06 19:21:52 (103 MB/s) - ‘/tmp/sonnets.txt’ saved [93578/93578]\n",
            "\n"
          ],
          "name": "stdout"
        }
      ]
    },
    {
      "cell_type": "code",
      "metadata": {
        "colab": {
          "base_uri": "https://localhost:8080/"
        },
        "id": "w9vH8Y59ajYL",
        "outputId": "784d6cc5-81e3-4314-f08c-e10f0e946135"
      },
      "source": [
        "model = Sequential()\n",
        "model.add(Embedding(total_words, 100, input_length=max_sequence_len-1))\n",
        "model.add(Bidirectional(LSTM(150, return_sequences = True)))\n",
        "model.add(Dropout(0.2))\n",
        "model.add(LSTM(100))\n",
        "model.add(Dense(total_words/2, activation='relu', kernel_regularizer=regularizers.l2(0.01)))\n",
        "model.add(Dense(total_words, activation='softmax'))\n",
        "model.compile(loss='categorical_crossentropy', optimizer='adam', metrics=['accuracy'])\n",
        "print(model.summary())\n"
      ],
      "execution_count": 4,
      "outputs": [
        {
          "output_type": "stream",
          "text": [
            "Model: \"sequential\"\n",
            "_________________________________________________________________\n",
            "Layer (type)                 Output Shape              Param #   \n",
            "=================================================================\n",
            "embedding (Embedding)        (None, 10, 100)           321100    \n",
            "_________________________________________________________________\n",
            "bidirectional (Bidirectional (None, 10, 300)           301200    \n",
            "_________________________________________________________________\n",
            "dropout (Dropout)            (None, 10, 300)           0         \n",
            "_________________________________________________________________\n",
            "lstm_1 (LSTM)                (None, 100)               160400    \n",
            "_________________________________________________________________\n",
            "dense (Dense)                (None, 1605)              162105    \n",
            "_________________________________________________________________\n",
            "dense_1 (Dense)              (None, 3211)              5156866   \n",
            "=================================================================\n",
            "Total params: 6,101,671\n",
            "Trainable params: 6,101,671\n",
            "Non-trainable params: 0\n",
            "_________________________________________________________________\n",
            "None\n"
          ],
          "name": "stdout"
        }
      ]
    },
    {
      "cell_type": "code",
      "metadata": {
        "colab": {
          "base_uri": "https://localhost:8080/"
        },
        "id": "AIg2f1HBxqof",
        "outputId": "228c2990-63ed-46f6-bfc8-0870b275afb0"
      },
      "source": [
        " history = model.fit(predictors, label, epochs=100, verbose=1)"
      ],
      "execution_count": 5,
      "outputs": [
        {
          "output_type": "stream",
          "text": [
            "Epoch 1/100\n",
            "484/484 [==============================] - 7s 14ms/step - loss: 6.9162 - accuracy: 0.0214\n",
            "Epoch 2/100\n",
            "484/484 [==============================] - 6s 13ms/step - loss: 6.5000 - accuracy: 0.0227\n",
            "Epoch 3/100\n",
            "484/484 [==============================] - 6s 12ms/step - loss: 6.4046 - accuracy: 0.0250\n",
            "Epoch 4/100\n",
            "484/484 [==============================] - 6s 13ms/step - loss: 6.2837 - accuracy: 0.0302\n",
            "Epoch 5/100\n",
            "484/484 [==============================] - 6s 13ms/step - loss: 6.1900 - accuracy: 0.0369\n",
            "Epoch 6/100\n",
            "484/484 [==============================] - 6s 13ms/step - loss: 6.1078 - accuracy: 0.0390\n",
            "Epoch 7/100\n",
            "484/484 [==============================] - 6s 13ms/step - loss: 6.0303 - accuracy: 0.0400\n",
            "Epoch 8/100\n",
            "484/484 [==============================] - 6s 13ms/step - loss: 5.9436 - accuracy: 0.0440\n",
            "Epoch 9/100\n",
            "484/484 [==============================] - 6s 13ms/step - loss: 5.8432 - accuracy: 0.0511\n",
            "Epoch 10/100\n",
            "484/484 [==============================] - 6s 12ms/step - loss: 5.7348 - accuracy: 0.0555\n",
            "Epoch 11/100\n",
            "484/484 [==============================] - 6s 13ms/step - loss: 5.6230 - accuracy: 0.0614\n",
            "Epoch 12/100\n",
            "484/484 [==============================] - 6s 13ms/step - loss: 5.5192 - accuracy: 0.0693\n",
            "Epoch 13/100\n",
            "484/484 [==============================] - 6s 12ms/step - loss: 5.4136 - accuracy: 0.0762\n",
            "Epoch 14/100\n",
            "484/484 [==============================] - 6s 13ms/step - loss: 5.3133 - accuracy: 0.0828\n",
            "Epoch 15/100\n",
            "484/484 [==============================] - 6s 13ms/step - loss: 5.2079 - accuracy: 0.0912\n",
            "Epoch 16/100\n",
            "484/484 [==============================] - 6s 13ms/step - loss: 5.1001 - accuracy: 0.1003\n",
            "Epoch 17/100\n",
            "484/484 [==============================] - 6s 13ms/step - loss: 4.9959 - accuracy: 0.1079\n",
            "Epoch 18/100\n",
            "484/484 [==============================] - 6s 12ms/step - loss: 4.8956 - accuracy: 0.1168\n",
            "Epoch 19/100\n",
            "484/484 [==============================] - 6s 13ms/step - loss: 4.7907 - accuracy: 0.1238\n",
            "Epoch 20/100\n",
            "484/484 [==============================] - 6s 12ms/step - loss: 4.6882 - accuracy: 0.1339\n",
            "Epoch 21/100\n",
            "484/484 [==============================] - 6s 12ms/step - loss: 4.5806 - accuracy: 0.1421\n",
            "Epoch 22/100\n",
            "484/484 [==============================] - 6s 13ms/step - loss: 4.4781 - accuracy: 0.1590\n",
            "Epoch 23/100\n",
            "484/484 [==============================] - 6s 12ms/step - loss: 4.3778 - accuracy: 0.1668\n",
            "Epoch 24/100\n",
            "484/484 [==============================] - 6s 12ms/step - loss: 4.2693 - accuracy: 0.1821\n",
            "Epoch 25/100\n",
            "484/484 [==============================] - 7s 14ms/step - loss: 4.1659 - accuracy: 0.1923\n",
            "Epoch 26/100\n",
            "484/484 [==============================] - 6s 13ms/step - loss: 4.0529 - accuracy: 0.2066\n",
            "Epoch 27/100\n",
            "484/484 [==============================] - 6s 12ms/step - loss: 3.9561 - accuracy: 0.2230\n",
            "Epoch 28/100\n",
            "484/484 [==============================] - 6s 12ms/step - loss: 3.8479 - accuracy: 0.2386\n",
            "Epoch 29/100\n",
            "484/484 [==============================] - 6s 12ms/step - loss: 3.7506 - accuracy: 0.2560\n",
            "Epoch 30/100\n",
            "484/484 [==============================] - 6s 12ms/step - loss: 3.6535 - accuracy: 0.2723\n",
            "Epoch 31/100\n",
            "484/484 [==============================] - 6s 12ms/step - loss: 3.5640 - accuracy: 0.2894\n",
            "Epoch 32/100\n",
            "484/484 [==============================] - 6s 12ms/step - loss: 3.4663 - accuracy: 0.3108\n",
            "Epoch 33/100\n",
            "484/484 [==============================] - 6s 11ms/step - loss: 3.3748 - accuracy: 0.3273\n",
            "Epoch 34/100\n",
            "484/484 [==============================] - 6s 12ms/step - loss: 3.2860 - accuracy: 0.3485\n",
            "Epoch 35/100\n",
            "484/484 [==============================] - 6s 12ms/step - loss: 3.2011 - accuracy: 0.3706\n",
            "Epoch 36/100\n",
            "484/484 [==============================] - 6s 12ms/step - loss: 3.1142 - accuracy: 0.3875\n",
            "Epoch 37/100\n",
            "484/484 [==============================] - 6s 12ms/step - loss: 3.0375 - accuracy: 0.4009\n",
            "Epoch 38/100\n",
            "484/484 [==============================] - 6s 12ms/step - loss: 2.9652 - accuracy: 0.4260\n",
            "Epoch 39/100\n",
            "484/484 [==============================] - 6s 12ms/step - loss: 2.8863 - accuracy: 0.4421\n",
            "Epoch 40/100\n",
            "484/484 [==============================] - 6s 12ms/step - loss: 2.8148 - accuracy: 0.4601\n",
            "Epoch 41/100\n",
            "484/484 [==============================] - 6s 12ms/step - loss: 2.7458 - accuracy: 0.4728\n",
            "Epoch 42/100\n",
            "484/484 [==============================] - 6s 12ms/step - loss: 2.6826 - accuracy: 0.4896\n",
            "Epoch 43/100\n",
            "484/484 [==============================] - 6s 12ms/step - loss: 2.6161 - accuracy: 0.4984\n",
            "Epoch 44/100\n",
            "484/484 [==============================] - 6s 12ms/step - loss: 2.5599 - accuracy: 0.5136\n",
            "Epoch 45/100\n",
            "484/484 [==============================] - 6s 12ms/step - loss: 2.4931 - accuracy: 0.5369\n",
            "Epoch 46/100\n",
            "484/484 [==============================] - 6s 12ms/step - loss: 2.4338 - accuracy: 0.5444\n",
            "Epoch 47/100\n",
            "484/484 [==============================] - 6s 11ms/step - loss: 2.3880 - accuracy: 0.5609\n",
            "Epoch 48/100\n",
            "484/484 [==============================] - 5s 11ms/step - loss: 2.3313 - accuracy: 0.5675\n",
            "Epoch 49/100\n",
            "484/484 [==============================] - 6s 11ms/step - loss: 2.2842 - accuracy: 0.5761\n",
            "Epoch 50/100\n",
            "484/484 [==============================] - 6s 12ms/step - loss: 2.2398 - accuracy: 0.5867\n",
            "Epoch 51/100\n",
            "484/484 [==============================] - 5s 11ms/step - loss: 2.1923 - accuracy: 0.5969\n",
            "Epoch 52/100\n",
            "484/484 [==============================] - 5s 11ms/step - loss: 2.1549 - accuracy: 0.6005\n",
            "Epoch 53/100\n",
            "484/484 [==============================] - 5s 11ms/step - loss: 2.0976 - accuracy: 0.6202\n",
            "Epoch 54/100\n",
            "484/484 [==============================] - 5s 11ms/step - loss: 2.0455 - accuracy: 0.6291\n",
            "Epoch 55/100\n",
            "484/484 [==============================] - 6s 12ms/step - loss: 2.0109 - accuracy: 0.6355\n",
            "Epoch 56/100\n",
            "484/484 [==============================] - 6s 12ms/step - loss: 1.9774 - accuracy: 0.6443\n",
            "Epoch 57/100\n",
            "484/484 [==============================] - 6s 11ms/step - loss: 1.9416 - accuracy: 0.6514\n",
            "Epoch 58/100\n",
            "484/484 [==============================] - 6s 12ms/step - loss: 1.9048 - accuracy: 0.6612\n",
            "Epoch 59/100\n",
            "484/484 [==============================] - 6s 12ms/step - loss: 1.8706 - accuracy: 0.6703\n",
            "Epoch 60/100\n",
            "484/484 [==============================] - 6s 12ms/step - loss: 1.8293 - accuracy: 0.6777\n",
            "Epoch 61/100\n",
            "484/484 [==============================] - 6s 12ms/step - loss: 1.7953 - accuracy: 0.6840\n",
            "Epoch 62/100\n",
            "484/484 [==============================] - 6s 12ms/step - loss: 1.7715 - accuracy: 0.6879\n",
            "Epoch 63/100\n",
            "484/484 [==============================] - 6s 12ms/step - loss: 1.7334 - accuracy: 0.6960\n",
            "Epoch 64/100\n",
            "484/484 [==============================] - 5s 11ms/step - loss: 1.7129 - accuracy: 0.6979\n",
            "Epoch 65/100\n",
            "484/484 [==============================] - 5s 11ms/step - loss: 1.6797 - accuracy: 0.7057\n",
            "Epoch 66/100\n",
            "484/484 [==============================] - 6s 12ms/step - loss: 1.6457 - accuracy: 0.7139\n",
            "Epoch 67/100\n",
            "484/484 [==============================] - 5s 11ms/step - loss: 1.6280 - accuracy: 0.7165\n",
            "Epoch 68/100\n",
            "484/484 [==============================] - 6s 11ms/step - loss: 1.5996 - accuracy: 0.7224\n",
            "Epoch 69/100\n",
            "484/484 [==============================] - 6s 11ms/step - loss: 1.5850 - accuracy: 0.7233\n",
            "Epoch 70/100\n",
            "484/484 [==============================] - 5s 11ms/step - loss: 1.5457 - accuracy: 0.7343\n",
            "Epoch 71/100\n",
            "484/484 [==============================] - 6s 12ms/step - loss: 1.5270 - accuracy: 0.7365\n",
            "Epoch 72/100\n",
            "484/484 [==============================] - 6s 11ms/step - loss: 1.4949 - accuracy: 0.7415\n",
            "Epoch 73/100\n",
            "484/484 [==============================] - 6s 12ms/step - loss: 1.4805 - accuracy: 0.7467\n",
            "Epoch 74/100\n",
            "484/484 [==============================] - 5s 11ms/step - loss: 1.4608 - accuracy: 0.7478\n",
            "Epoch 75/100\n",
            "484/484 [==============================] - 6s 11ms/step - loss: 1.4372 - accuracy: 0.7530\n",
            "Epoch 76/100\n",
            "484/484 [==============================] - 6s 12ms/step - loss: 1.4260 - accuracy: 0.7532\n",
            "Epoch 77/100\n",
            "484/484 [==============================] - 6s 11ms/step - loss: 1.4148 - accuracy: 0.7558\n",
            "Epoch 78/100\n",
            "484/484 [==============================] - 6s 12ms/step - loss: 1.3857 - accuracy: 0.7636\n",
            "Epoch 79/100\n",
            "484/484 [==============================] - 6s 12ms/step - loss: 1.3762 - accuracy: 0.7612\n",
            "Epoch 80/100\n",
            "484/484 [==============================] - 6s 13ms/step - loss: 1.3624 - accuracy: 0.7674\n",
            "Epoch 81/100\n",
            "484/484 [==============================] - 6s 12ms/step - loss: 1.3275 - accuracy: 0.7739\n",
            "Epoch 82/100\n",
            "484/484 [==============================] - 6s 12ms/step - loss: 1.3015 - accuracy: 0.7784\n",
            "Epoch 83/100\n",
            "484/484 [==============================] - 6s 12ms/step - loss: 1.3034 - accuracy: 0.7765\n",
            "Epoch 84/100\n",
            "484/484 [==============================] - 6s 12ms/step - loss: 1.2891 - accuracy: 0.7791\n",
            "Epoch 85/100\n",
            "484/484 [==============================] - 6s 12ms/step - loss: 1.2869 - accuracy: 0.7800\n",
            "Epoch 86/100\n",
            "484/484 [==============================] - 6s 12ms/step - loss: 1.2676 - accuracy: 0.7810\n",
            "Epoch 87/100\n",
            "484/484 [==============================] - 6s 12ms/step - loss: 1.2525 - accuracy: 0.7842\n",
            "Epoch 88/100\n",
            "484/484 [==============================] - 6s 12ms/step - loss: 1.2304 - accuracy: 0.7896\n",
            "Epoch 89/100\n",
            "484/484 [==============================] - 6s 12ms/step - loss: 1.2180 - accuracy: 0.7895\n",
            "Epoch 90/100\n",
            "484/484 [==============================] - 6s 12ms/step - loss: 1.2077 - accuracy: 0.7899\n",
            "Epoch 91/100\n",
            "484/484 [==============================] - 6s 12ms/step - loss: 1.1956 - accuracy: 0.7962\n",
            "Epoch 92/100\n",
            "484/484 [==============================] - 6s 12ms/step - loss: 1.1970 - accuracy: 0.7912\n",
            "Epoch 93/100\n",
            "484/484 [==============================] - 6s 12ms/step - loss: 1.1838 - accuracy: 0.7965\n",
            "Epoch 94/100\n",
            "484/484 [==============================] - 6s 12ms/step - loss: 1.1539 - accuracy: 0.8032\n",
            "Epoch 95/100\n",
            "484/484 [==============================] - 6s 12ms/step - loss: 1.1452 - accuracy: 0.8028\n",
            "Epoch 96/100\n",
            "484/484 [==============================] - 6s 12ms/step - loss: 1.1432 - accuracy: 0.8001\n",
            "Epoch 97/100\n",
            "484/484 [==============================] - 6s 12ms/step - loss: 1.1286 - accuracy: 0.8052\n",
            "Epoch 98/100\n",
            "484/484 [==============================] - 6s 12ms/step - loss: 1.1315 - accuracy: 0.8019\n",
            "Epoch 99/100\n",
            "484/484 [==============================] - 6s 12ms/step - loss: 1.1189 - accuracy: 0.8049\n",
            "Epoch 100/100\n",
            "484/484 [==============================] - 6s 12ms/step - loss: 1.1000 - accuracy: 0.8096\n"
          ],
          "name": "stdout"
        }
      ]
    },
    {
      "cell_type": "code",
      "metadata": {
        "colab": {
          "base_uri": "https://localhost:8080/",
          "height": 545
        },
        "id": "1fXTEO3GJ282",
        "outputId": "c0e9909c-35db-4f5f-ecd9-98b5575a33ff"
      },
      "source": [
        "import matplotlib.pyplot as plt\n",
        "acc = history.history['accuracy']\n",
        "loss = history.history['loss']\n",
        "\n",
        "epochs = range(len(acc))\n",
        "\n",
        "plt.plot(epochs, acc, 'b', label='Training accuracy')\n",
        "plt.title('Training accuracy')\n",
        "\n",
        "plt.figure()\n",
        "\n",
        "plt.plot(epochs, loss, 'b', label='Training Loss')\n",
        "plt.title('Training loss')\n",
        "plt.legend()\n",
        "\n",
        "plt.show()"
      ],
      "execution_count": 6,
      "outputs": [
        {
          "output_type": "display_data",
          "data": {
            "image/png": "[encoded data removed]",
            "text/plain": [
              "<Figure size 432x288 with 1 Axes>"
            ]
          },
          "metadata": {
            "tags": [],
            "needs_background": "light"
          }
        },
        {
          "output_type": "display_data",
          "data": {
            "image/png": "[encoded data removed]",
            "text/plain": [
              "<Figure size 432x288 with 1 Axes>"
            ]
          },
          "metadata": {
            "tags": [],
            "needs_background": "light"
          }
        }
      ]
    },
    {
      "cell_type": "code",
      "metadata": {
        "colab": {
          "base_uri": "https://localhost:8080/"
        },
        "id": "6Vc6PHgxa6Hm",
        "outputId": "4dd7dbf4-2bb4-4474-8430-788d16aa3aa0"
      },
      "source": [
        "seed_text = \"Help me Obi Wan Kenobi, you're my only hope\"\n",
        "next_words = 100\n",
        "  \n",
        "for _ in range(next_words):\n",
        "\ttoken_list = tokenizer.texts_to_sequences([seed_text])[0]\n",
        "\ttoken_list = pad_sequences([token_list], maxlen=max_sequence_len-1, padding='pre')\n",
        "\tpredicted = model.predict_classes(token_list, verbose=0)\n",
        "\toutput_word = \"\"\n",
        "\tfor word, index in tokenizer.word_index.items():\n",
        "\t\tif index == predicted:\n",
        "\t\t\toutput_word = word\n",
        "\t\t\tbreak\n",
        "\tseed_text += \" \" + output_word\n",
        "print(seed_text)"
      ],
      "execution_count": 7,
      "outputs": [
        {
          "output_type": "stream",
          "text": [
            "WARNING:tensorflow:From <ipython-input-7-622d307fa19a>:7: Sequential.predict_classes (from tensorflow.python.keras.engine.sequential) is deprecated and will be removed after 2021-01-01.\n",
            "Instructions for updating:\n",
            "Please use instead:* `np.argmax(model.predict(x), axis=-1)`,   if your model does multi-class classification   (e.g. if it uses a `softmax` last-layer activation).* `(model.predict(x) > 0.5).astype(\"int32\")`,   if your model does binary classification   (e.g. if it uses a `sigmoid` last-layer activation).\n",
            "Help me Obi Wan Kenobi, you're my only hope got his fair praise bevel impute exceed ' live then made of mend the taker mad so ward taken bars of brow light taken light grow cheeks sea new power dead toil'd light torn torn gone smell of new prime wind quite date dead grow up dead spent stand her treasure leaves deeds new cheeks day new alone so live alone seen so bring groan of me so free good groan ' make me new gone seen new young new for you near twain twain lie so 'tis ' so so wrong of true rolling bearing now find light skill\n"
          ],
          "name": "stdout"
        }
      ]
    }
  ]
}